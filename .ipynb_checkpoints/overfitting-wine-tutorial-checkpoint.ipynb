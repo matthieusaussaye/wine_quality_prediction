{
 "cells": [
  {
   "cell_type": "code",
   "execution_count": 6,
   "outputs": [
    {
     "ename": "ModuleNotFoundError",
     "evalue": "No module named 'pandas'",
     "output_type": "error",
     "traceback": [
      "\u001B[0;31m---------------------------------------------------------------------------\u001B[0m",
      "\u001B[0;31mModuleNotFoundError\u001B[0m                       Traceback (most recent call last)",
      "Cell \u001B[0;32mIn[6], line 1\u001B[0m\n\u001B[0;32m----> 1\u001B[0m \u001B[38;5;28;01mimport\u001B[39;00m \u001B[38;5;21;01mpandas\u001B[39;00m \u001B[38;5;28;01mas\u001B[39;00m \u001B[38;5;21;01mpd\u001B[39;00m\n\u001B[1;32m      2\u001B[0m \u001B[38;5;66;03m# now we train a decision tree on the columns of interest\u001B[39;00m\n\u001B[1;32m      3\u001B[0m \u001B[38;5;28;01mfrom\u001B[39;00m \u001B[38;5;21;01msklearn\u001B[39;00m \u001B[38;5;28;01mimport\u001B[39;00m tree\n",
      "\u001B[0;31mModuleNotFoundError\u001B[0m: No module named 'pandas'"
     ]
    }
   ],
   "source": [
    "import pandas as pd\n",
    "# now we train a decision tree on the columns of interest\n",
    "from sklearn import tree\n",
    "from sklearn import metrics\n"
   ],
   "metadata": {
    "collapsed": false,
    "ExecuteTime": {
     "end_time": "2023-08-01T12:27:27.650752Z",
     "start_time": "2023-08-01T12:27:27.640076Z"
    }
   },
   "id": "2183ab681953965b"
  },
  {
   "cell_type": "code",
   "execution_count": null,
   "id": "initial_id",
   "metadata": {
    "collapsed": true
   },
   "outputs": [],
   "source": [
    "\n",
    "df = pd.read_csv('wineQualityReds.csv') # download dataset -> https://www.kaggle.com/datasets/piyushgoyal443/red-wine-dataset\n",
    "\n",
    "# since the dataset contains the target variable in a range between 3 and 8, we map them from 1 to 5.\n",
    "quality_mapping = {\n",
    "    3: 0,\n",
    "    4: 1,\n",
    "    5: 2,\n",
    "    6: 3,\n",
    "    7: 4,\n",
    "    \n",
    "    \n",
    "    8: 5\n",
    "}\n",
    "\n",
    "df.loc[:, 'quality'] = df.quality.map(quality_mapping)\n",
    "\n",
    "# split the dataset in two portions, training and test sets. \n",
    "# since the dataset has 1599 examples, we'll use 1000 for training and 599 for test\n",
    "# we use frac=1 to shuffle the data and reset the index\n",
    "df = df.sample(frac=1).reset_index(drop=True)\n",
    "\n",
    "df_train = df.head(1000)\n",
    "df_test = df.tail(599)\n",
    "\n",
    "cols = [\n",
    "    'fixed.acidity', 'volatile.acidity', 'citric.acid','residual.sugar', 'chlorides', 'free.sulfur.dioxide',\n",
    "    'total.sulfur.dioxide', 'density', 'pH', 'sulphates', 'alcohol',\n",
    "]\n",
    "\n",
    "# train the model\n",
    "clf = tree.DecisionTreeClassifier(max_depth=3) \n",
    "clf.fit(df_train[cols], df_train.quality)\n",
    "\n",
    "# create predictions\n",
    "train_predictions = clf.predict(df_train[cols])\n",
    "test_predictions = clf.predict(df_test[cols])\n",
    "\n",
    "# compute accuracy\n",
    "train_accuracy = metrics.accuracy_score(df_train.quality, train_predictions)\n",
    "test_accuracy = metrics.accuracy_score(df_test.quality, test_predictions)\n",
    "\n",
    "print(f\"Train accuracy: {round(train_accuracy, 3)}\")\n",
    "print(f\"Test accuracy: {round(test_accuracy, 3)}\")"
   ]
  },
  {
   "cell_type": "code",
   "execution_count": null,
   "outputs": [],
   "source": [],
   "metadata": {
    "collapsed": false
   },
   "id": "b5576312826f4f25"
  },
  {
   "cell_type": "code",
   "execution_count": null,
   "outputs": [],
   "source": [],
   "metadata": {
    "collapsed": false
   },
   "id": "dc7ba044e149765e"
  },
  {
   "cell_type": "code",
   "execution_count": null,
   "outputs": [],
   "source": [],
   "metadata": {
    "collapsed": false
   },
   "id": "381847fd0de83929"
  },
  {
   "cell_type": "code",
   "execution_count": null,
   "outputs": [],
   "source": [],
   "metadata": {
    "collapsed": false
   },
   "id": "2eb386d394cbee23"
  }
 ],
 "metadata": {
  "kernelspec": {
   "display_name": "Python 3",
   "language": "python",
   "name": "python3"
  },
  "language_info": {
   "codemirror_mode": {
    "name": "ipython",
    "version": 2
   },
   "file_extension": ".py",
   "mimetype": "text/x-python",
   "name": "python",
   "nbconvert_exporter": "python",
   "pygments_lexer": "ipython2",
   "version": "2.7.6"
  }
 },
 "nbformat": 4,
 "nbformat_minor": 5
}
